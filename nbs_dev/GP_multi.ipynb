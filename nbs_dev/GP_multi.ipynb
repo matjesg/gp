{
 "cells": [
  {
   "cell_type": "code",
   "execution_count": 1,
   "metadata": {},
   "outputs": [],
   "source": [
    "import math\n",
    "import torch\n",
    "import gpytorch\n",
    "import sys\n",
    "from matplotlib import pyplot as plt\n",
    "sys.path.append('../')\n",
    "from LBFGS import FullBatchLBFGS\n",
    "\n",
    "import pandas as pd\n",
    "%matplotlib inline\n",
    "%load_ext autoreload\n",
    "%autoreload 2"
   ]
  },
  {
   "cell_type": "markdown",
   "metadata": {},
   "source": [
    "import os\n",
    "import urllib.request\n",
    "from scipy.io import loadmat\n",
    "dataset = 'protein'\n",
    "if not os.path.isfile(f'../{dataset}.mat'):\n",
    "    print(f'Downloading \\'{dataset}\\' UCI dataset...')\n",
    "    urllib.request.urlretrieve('https://drive.google.com/uc?export=download&id=1nRb8e7qooozXkNghC5eQS0JeywSXGX2S',\n",
    "                               f'../{dataset}.mat')\n",
    "\n",
    "data = torch.Tensor(loadmat(f'../{dataset}.mat')['data'])"
   ]
  },
  {
   "cell_type": "markdown",
   "metadata": {},
   "source": [
    "df = data[:1500,:]"
   ]
  },
  {
   "cell_type": "code",
   "execution_count": 2,
   "metadata": {},
   "outputs": [
    {
     "name": "stdout",
     "output_type": "stream",
     "text": [
      "Index(['CALAMARI', 'FISH', 'SHRIMP', 'CHICKEN', 'KOEFTE', 'LAMB', 'STEAK'], dtype='object')\n"
     ]
    }
   ],
   "source": [
    "#df = pd.read_csv('yaz_steak_small.csv')\n",
    "target = 'LAMB'\n",
    "df = pd.read_csv('yaz_steak.csv')\n",
    "df.drop(columns=['DEMAND_DATE', 'STEAK'], inplace=True)\n",
    "df_target = pd.read_csv('yaz_target.csv')\n",
    "print(df_target.columns)\n",
    "df['target'] = df_target[target]\n",
    "y_max = df.target.max()\n",
    "df.target = df.target/y_max"
   ]
  },
  {
   "cell_type": "code",
   "execution_count": 3,
   "metadata": {},
   "outputs": [],
   "source": [
    "from sklearn.preprocessing import StandardScaler, MinMaxScaler\n",
    "scaler = MinMaxScaler()\n",
    "df_scaled = scaler.fit_transform(df)"
   ]
  },
  {
   "cell_type": "code",
   "execution_count": 4,
   "metadata": {},
   "outputs": [],
   "source": [
    "data = torch.tensor(df_scaled, dtype=torch.float32)"
   ]
  },
  {
   "cell_type": "code",
   "execution_count": 5,
   "metadata": {},
   "outputs": [],
   "source": [
    "import numpy as np\n",
    "\n",
    "N = data.shape[0]\n",
    "# make train/val/test\n",
    "n_train = int(0.8 * N)\n",
    "#n_train = int(1 * N)\n",
    "train_x, train_y = data[:n_train, :-1], data[:n_train, -1]\n",
    "test_x, test_y = data[n_train:, :-1], data[n_train:, -1]"
   ]
  },
  {
   "cell_type": "markdown",
   "metadata": {},
   "source": [
    "# normalize features\n",
    "mean = train_x.mean(dim=-2, keepdim=True)\n",
    "std = train_x.std(dim=-2, keepdim=True) + 1e-6 # prevent dividing by 0\n",
    "train_x = (train_x - mean) / std\n",
    "test_x = (test_x - mean) / std"
   ]
  },
  {
   "cell_type": "markdown",
   "metadata": {},
   "source": [
    "# normalize labels\n",
    "mean, std = train_y.mean(),train_y.std()\n",
    "train_y = (train_y - mean) / std\n",
    "test_y = (test_y - mean) / std"
   ]
  },
  {
   "cell_type": "code",
   "execution_count": 6,
   "metadata": {},
   "outputs": [],
   "source": [
    "# make continguous\n",
    "train_x, train_y = train_x.contiguous(), train_y.contiguous()\n",
    "test_x, test_y = test_x.contiguous(), test_y.contiguous()\n",
    "\n",
    "output_device = torch.device('cuda:0')\n",
    "\n",
    "train_x, train_y = train_x.to(output_device), train_y.to(output_device)\n",
    "test_x, test_y = test_x.to(output_device), test_y.to(output_device)"
   ]
  },
  {
   "cell_type": "code",
   "execution_count": 7,
   "metadata": {},
   "outputs": [
    {
     "name": "stdout",
     "output_type": "stream",
     "text": [
      "Planning to run on 1 GPUs.\n"
     ]
    }
   ],
   "source": [
    "n_devices = torch.cuda.device_count()\n",
    "print('Planning to run on {} GPUs.'.format(n_devices))"
   ]
  },
  {
   "cell_type": "code",
   "execution_count": 8,
   "metadata": {},
   "outputs": [],
   "source": [
    "# We will use the simplest form of GP model, exact inference\n",
    "class ExactGPModel(gpytorch.models.ExactGP):\n",
    "    def __init__(self, train_x, train_y, likelihood):\n",
    "        super(ExactGPModel, self).__init__(train_x, train_y, likelihood)\n",
    "        self.mean_module = gpytorch.means.ConstantMean()\n",
    "        self.covar_module = gpytorch.kernels.ScaleKernel(gpytorch.kernels.RBFKernel())\n",
    "\n",
    "    def forward(self, x):\n",
    "        mean_x = self.mean_module(x)\n",
    "        covar_x = self.covar_module(x)\n",
    "        return gpytorch.distributions.MultivariateNormal(mean_x, covar_x)\n",
    "\n",
    "# initialize likelihood and model\n",
    "likelihood = gpytorch.likelihoods.GaussianLikelihood().cuda()\n",
    "model = ExactGPModel(train_x, train_y, likelihood).cuda()"
   ]
  },
  {
   "cell_type": "code",
   "execution_count": 9,
   "metadata": {},
   "outputs": [
    {
     "name": "stdout",
     "output_type": "stream",
     "text": [
      "Iter 1/100 - Loss: 0.946   lengthscale: 0.693   noise: 0.693\n",
      "Iter 2/100 - Loss: 0.902   lengthscale: 0.744   noise: 0.644\n",
      "Iter 3/100 - Loss: 0.858   lengthscale: 0.798   noise: 0.598\n",
      "Iter 4/100 - Loss: 0.814   lengthscale: 0.855   noise: 0.554\n",
      "Iter 5/100 - Loss: 0.769   lengthscale: 0.914   noise: 0.513\n",
      "Iter 6/100 - Loss: 0.722   lengthscale: 0.975   noise: 0.474\n",
      "Iter 7/100 - Loss: 0.675   lengthscale: 1.040   noise: 0.437\n",
      "Iter 8/100 - Loss: 0.626   lengthscale: 1.107   noise: 0.402\n",
      "Iter 9/100 - Loss: 0.577   lengthscale: 1.177   noise: 0.370\n",
      "Iter 10/100 - Loss: 0.527   lengthscale: 1.249   noise: 0.340\n",
      "Iter 11/100 - Loss: 0.477   lengthscale: 1.324   noise: 0.311\n",
      "Iter 12/100 - Loss: 0.427   lengthscale: 1.400   noise: 0.285\n",
      "Iter 13/100 - Loss: 0.376   lengthscale: 1.479   noise: 0.261\n",
      "Iter 14/100 - Loss: 0.326   lengthscale: 1.558   noise: 0.238\n",
      "Iter 15/100 - Loss: 0.276   lengthscale: 1.639   noise: 0.217\n",
      "Iter 16/100 - Loss: 0.227   lengthscale: 1.720   noise: 0.198\n",
      "Iter 17/100 - Loss: 0.177   lengthscale: 1.801   noise: 0.180\n",
      "Iter 18/100 - Loss: 0.128   lengthscale: 1.882   noise: 0.163\n",
      "Iter 19/100 - Loss: 0.079   lengthscale: 1.962   noise: 0.148\n",
      "Iter 20/100 - Loss: 0.031   lengthscale: 2.042   noise: 0.135\n",
      "Iter 21/100 - Loss: -0.017   lengthscale: 2.120   noise: 0.122\n",
      "Iter 22/100 - Loss: -0.064   lengthscale: 2.197   noise: 0.110\n",
      "Iter 23/100 - Loss: -0.111   lengthscale: 2.272   noise: 0.100\n",
      "Iter 24/100 - Loss: -0.157   lengthscale: 2.345   noise: 0.090\n",
      "Iter 25/100 - Loss: -0.203   lengthscale: 2.416   noise: 0.082\n",
      "Iter 26/100 - Loss: -0.248   lengthscale: 2.485   noise: 0.074\n",
      "Iter 27/100 - Loss: -0.292   lengthscale: 2.552   noise: 0.067\n",
      "Iter 28/100 - Loss: -0.334   lengthscale: 2.617   noise: 0.060\n",
      "Iter 29/100 - Loss: -0.376   lengthscale: 2.679   noise: 0.054\n",
      "Iter 30/100 - Loss: -0.417   lengthscale: 2.739   noise: 0.049\n",
      "Iter 31/100 - Loss: -0.456   lengthscale: 2.796   noise: 0.044\n",
      "Iter 32/100 - Loss: -0.494   lengthscale: 2.851   noise: 0.040\n",
      "Iter 33/100 - Loss: -0.530   lengthscale: 2.904   noise: 0.036\n",
      "Iter 34/100 - Loss: -0.564   lengthscale: 2.954   noise: 0.033\n",
      "Iter 35/100 - Loss: -0.596   lengthscale: 3.002   noise: 0.030\n",
      "Iter 36/100 - Loss: -0.626   lengthscale: 3.047   noise: 0.027\n",
      "Iter 37/100 - Loss: -0.654   lengthscale: 3.089   noise: 0.025\n",
      "Iter 38/100 - Loss: -0.680   lengthscale: 3.129   noise: 0.022\n",
      "Iter 39/100 - Loss: -0.703   lengthscale: 3.165   noise: 0.020\n",
      "Iter 40/100 - Loss: -0.723   lengthscale: 3.200   noise: 0.019\n",
      "Iter 41/100 - Loss: -0.741   lengthscale: 3.231   noise: 0.017\n",
      "Iter 42/100 - Loss: -0.756   lengthscale: 3.259   noise: 0.016\n",
      "Iter 43/100 - Loss: -0.768   lengthscale: 3.284   noise: 0.014\n",
      "Iter 44/100 - Loss: -0.777   lengthscale: 3.306   noise: 0.013\n",
      "Iter 45/100 - Loss: -0.784   lengthscale: 3.325   noise: 0.012\n",
      "Iter 46/100 - Loss: -0.789   lengthscale: 3.340   noise: 0.012\n",
      "Iter 47/100 - Loss: -0.791   lengthscale: 3.352   noise: 0.011\n",
      "Iter 48/100 - Loss: -0.792   lengthscale: 3.360   noise: 0.010\n",
      "Iter 49/100 - Loss: -0.792   lengthscale: 3.365   noise: 0.010\n",
      "Iter 50/100 - Loss: -0.790   lengthscale: 3.365   noise: 0.009\n",
      "Iter 51/100 - Loss: -0.788   lengthscale: 3.362   noise: 0.009\n",
      "Iter 52/100 - Loss: -0.786   lengthscale: 3.356   noise: 0.008\n",
      "Iter 53/100 - Loss: -0.783   lengthscale: 3.345   noise: 0.008\n",
      "Iter 54/100 - Loss: -0.781   lengthscale: 3.331   noise: 0.008\n",
      "Iter 55/100 - Loss: -0.780   lengthscale: 3.313   noise: 0.008\n",
      "Iter 56/100 - Loss: -0.779   lengthscale: 3.292   noise: 0.008\n",
      "Iter 57/100 - Loss: -0.779   lengthscale: 3.267   noise: 0.008\n",
      "Iter 58/100 - Loss: -0.780   lengthscale: 3.240   noise: 0.008\n",
      "Iter 59/100 - Loss: -0.782   lengthscale: 3.210   noise: 0.008\n",
      "Iter 60/100 - Loss: -0.784   lengthscale: 3.179   noise: 0.008\n",
      "Iter 61/100 - Loss: -0.786   lengthscale: 3.145   noise: 0.008\n",
      "Iter 62/100 - Loss: -0.788   lengthscale: 3.110   noise: 0.008\n",
      "Iter 63/100 - Loss: -0.791   lengthscale: 3.074   noise: 0.008\n",
      "Iter 64/100 - Loss: -0.793   lengthscale: 3.038   noise: 0.008\n",
      "Iter 65/100 - Loss: -0.795   lengthscale: 3.002   noise: 0.008\n",
      "Iter 66/100 - Loss: -0.797   lengthscale: 2.966   noise: 0.008\n",
      "Iter 67/100 - Loss: -0.799   lengthscale: 2.932   noise: 0.008\n",
      "Iter 68/100 - Loss: -0.800   lengthscale: 2.898   noise: 0.009\n",
      "Iter 69/100 - Loss: -0.800   lengthscale: 2.867   noise: 0.009\n",
      "Iter 70/100 - Loss: -0.801   lengthscale: 2.837   noise: 0.009\n",
      "Iter 71/100 - Loss: -0.801   lengthscale: 2.810   noise: 0.009\n",
      "Iter 72/100 - Loss: -0.801   lengthscale: 2.786   noise: 0.009\n",
      "Iter 73/100 - Loss: -0.801   lengthscale: 2.764   noise: 0.009\n",
      "Iter 74/100 - Loss: -0.800   lengthscale: 2.745   noise: 0.009\n",
      "Iter 75/100 - Loss: -0.800   lengthscale: 2.730   noise: 0.010\n",
      "Iter 76/100 - Loss: -0.800   lengthscale: 2.717   noise: 0.010\n",
      "Iter 77/100 - Loss: -0.800   lengthscale: 2.707   noise: 0.010\n",
      "Iter 78/100 - Loss: -0.799   lengthscale: 2.700   noise: 0.010\n",
      "Iter 79/100 - Loss: -0.799   lengthscale: 2.695   noise: 0.010\n",
      "Iter 80/100 - Loss: -0.799   lengthscale: 2.693   noise: 0.010\n",
      "Iter 81/100 - Loss: -0.799   lengthscale: 2.693   noise: 0.010\n",
      "Iter 82/100 - Loss: -0.800   lengthscale: 2.695   noise: 0.010\n",
      "Iter 83/100 - Loss: -0.800   lengthscale: 2.699   noise: 0.010\n",
      "Iter 84/100 - Loss: -0.800   lengthscale: 2.704   noise: 0.010\n",
      "Iter 85/100 - Loss: -0.800   lengthscale: 2.710   noise: 0.010\n",
      "Iter 86/100 - Loss: -0.800   lengthscale: 2.717   noise: 0.010\n",
      "Iter 87/100 - Loss: -0.801   lengthscale: 2.724   noise: 0.010\n",
      "Iter 88/100 - Loss: -0.801   lengthscale: 2.731   noise: 0.010\n",
      "Iter 89/100 - Loss: -0.801   lengthscale: 2.738   noise: 0.010\n",
      "Iter 90/100 - Loss: -0.801   lengthscale: 2.745   noise: 0.010\n",
      "Iter 91/100 - Loss: -0.802   lengthscale: 2.752   noise: 0.010\n",
      "Iter 92/100 - Loss: -0.802   lengthscale: 2.758   noise: 0.010\n",
      "Iter 93/100 - Loss: -0.802   lengthscale: 2.763   noise: 0.009\n",
      "Iter 94/100 - Loss: -0.802   lengthscale: 2.767   noise: 0.009\n",
      "Iter 95/100 - Loss: -0.802   lengthscale: 2.770   noise: 0.009\n",
      "Iter 96/100 - Loss: -0.802   lengthscale: 2.771   noise: 0.009\n",
      "Iter 97/100 - Loss: -0.802   lengthscale: 2.772   noise: 0.009\n",
      "Iter 98/100 - Loss: -0.802   lengthscale: 2.771   noise: 0.009\n",
      "Iter 99/100 - Loss: -0.802   lengthscale: 2.769   noise: 0.009\n",
      "Iter 100/100 - Loss: -0.802   lengthscale: 2.766   noise: 0.009\n"
     ]
    }
   ],
   "source": [
    "# Find optimal model hyperparameters\n",
    "model.train()\n",
    "likelihood.train()\n",
    "training_iter=100\n",
    "\n",
    "# Use the adam optimizer\n",
    "optimizer = torch.optim.Adam([\n",
    "    {'params': model.parameters()},  # Includes GaussianLikelihood parameters\n",
    "], lr=0.1)\n",
    "\n",
    "# \"Loss\" for GPs - the marginal log likelihood\n",
    "mll = gpytorch.mlls.ExactMarginalLogLikelihood(likelihood, model)\n",
    "\n",
    "for i in range(training_iter):\n",
    "    # Zero gradients from previous iteration\n",
    "    optimizer.zero_grad()\n",
    "    # Output from model\n",
    "    output = model(train_x)\n",
    "    # Calc loss and backprop gradients\n",
    "    loss = -mll(output, train_y)\n",
    "    loss.backward()\n",
    "    print('Iter %d/%d - Loss: %.3f   lengthscale: %.3f   noise: %.3f' % (\n",
    "        i + 1, training_iter, loss.item(),\n",
    "        model.covar_module.base_kernel.lengthscale.item(),\n",
    "        model.likelihood.noise.item()\n",
    "    ))\n",
    "    optimizer.step()"
   ]
  },
  {
   "cell_type": "code",
   "execution_count": 11,
   "metadata": {},
   "outputs": [],
   "source": [
    "# Get into evaluation (predictive posterior) mode\n",
    "model.eval()\n",
    "likelihood.eval()\n",
    "\n",
    "with torch.no_grad(), gpytorch.settings.fast_pred_var(), gpytorch.beta_features.checkpoint_kernel(1000):\n",
    "    # Make predictions on a small number of test points to get the test time caches computed\n",
    "    #observed_pred = likelihood(model(sample_x))\n",
    "    observed_pred = likelihood(model(test_x))\n",
    "    #observed_pred_train = likelihood(model(train_x))"
   ]
  },
  {
   "cell_type": "markdown",
   "metadata": {},
   "source": [
    "## Old"
   ]
  },
  {
   "cell_type": "markdown",
   "metadata": {},
   "source": [
    "class ExactGPModel(gpytorch.models.ExactGP):\n",
    "    def __init__(self, train_x, train_y, likelihood, n_devices):\n",
    "        super(ExactGPModel, self).__init__(train_x, train_y, likelihood)\n",
    "        self.mean_module = gpytorch.means.ConstantMean()\n",
    "        base_covar_module = gpytorch.kernels.ScaleKernel(gpytorch.kernels.RBFKernel())\n",
    "\n",
    "        self.covar_module = gpytorch.kernels.MultiDeviceKernel(\n",
    "            base_covar_module, device_ids=range(n_devices),\n",
    "            output_device=output_device\n",
    "        )\n",
    "\n",
    "    def forward(self, x):\n",
    "        mean_x = self.mean_module(x)\n",
    "        covar_x = self.covar_module(x)\n",
    "        return gpytorch.distributions.MultivariateNormal(mean_x, covar_x)\n",
    "\n",
    "def train(train_x,\n",
    "          train_y,\n",
    "          n_devices,\n",
    "          output_device,\n",
    "          checkpoint_size,\n",
    "          preconditioner_size,\n",
    "          n_training_iter,\n",
    "):\n",
    "    likelihood = gpytorch.likelihoods.GaussianLikelihood().to(output_device)\n",
    "    model = ExactGPModel(train_x, train_y, likelihood, n_devices).to(output_device)\n",
    "    model.train()\n",
    "    likelihood.train()\n",
    "\n",
    "    optimizer = FullBatchLBFGS(model.parameters(), lr=0.1)\n",
    "    # \"Loss\" for GPs - the marginal log likelihood\n",
    "    mll = gpytorch.mlls.ExactMarginalLogLikelihood(likelihood, model)\n",
    "\n",
    "\n",
    "    with gpytorch.beta_features.checkpoint_kernel(checkpoint_size), \\\n",
    "         gpytorch.settings.max_preconditioner_size(preconditioner_size):\n",
    "\n",
    "        def closure():\n",
    "            optimizer.zero_grad()\n",
    "            output = model(train_x)\n",
    "            loss = -mll(output, train_y)\n",
    "            return loss\n",
    "\n",
    "        loss = closure()\n",
    "        loss.backward()\n",
    "\n",
    "        for i in range(n_training_iter):\n",
    "            options = {'closure': closure, 'current_loss': loss, 'max_ls': 10}\n",
    "            loss, _, _, _, _, _, _, fail = optimizer.step(options)\n",
    "\n",
    "            print('Iter %d/%d - Loss: %.3f   lengthscale: %.3f   noise: %.3f' % (\n",
    "                i + 1, n_training_iter, loss.item(),\n",
    "                model.covar_module.module.base_kernel.lengthscale.item(),\n",
    "                model.likelihood.noise.item()\n",
    "            ))\n",
    "\n",
    "            if fail:\n",
    "                print('Convergence reached!')\n",
    "                break\n",
    "\n",
    "    print(f\"Finished training on {train_x.size(0)} data points using {n_devices} GPUs.\")\n",
    "    return model, likelihood"
   ]
  },
  {
   "cell_type": "markdown",
   "metadata": {},
   "source": [
    "import gc\n",
    "\n",
    "def find_best_gpu_setting(train_x,\n",
    "                          train_y,\n",
    "                          n_devices,\n",
    "                          output_device,\n",
    "                          preconditioner_size\n",
    "):\n",
    "    N = train_x.size(0)\n",
    "\n",
    "    # Find the optimum partition/checkpoint size by decreasing in powers of 2\n",
    "    # Start with no partitioning (size = 0)\n",
    "    settings = [0] + [int(n) for n in np.ceil(N / 2**np.arange(1, np.floor(np.log2(N))))]\n",
    "\n",
    "    for checkpoint_size in settings:\n",
    "        print('Number of devices: {} -- Kernel partition size: {}'.format(n_devices, checkpoint_size))\n",
    "        try:\n",
    "            # Try a full forward and backward pass with this setting to check memory usage\n",
    "            _, _ = train(train_x, train_y,\n",
    "                         n_devices=n_devices, output_device=output_device,\n",
    "                         checkpoint_size=checkpoint_size,\n",
    "                         preconditioner_size=preconditioner_size, n_training_iter=1)\n",
    "\n",
    "            # when successful, break out of for-loop and jump to finally block\n",
    "            break\n",
    "        except RuntimeError as e:\n",
    "            print('RuntimeError: {}'.format(e))\n",
    "        except AttributeError as e:\n",
    "            print('AttributeError: {}'.format(e))\n",
    "        finally:\n",
    "            # handle CUDA OOM error\n",
    "            gc.collect()\n",
    "            torch.cuda.empty_cache()\n",
    "    return checkpoint_size\n",
    "\n",
    "# Set a large enough preconditioner size to reduce the number of CG iterations run\n",
    "preconditioner_size = 100\n",
    "checkpoint_size = find_best_gpu_setting(train_x, train_y,\n",
    "                                        n_devices=n_devices,\n",
    "                                        output_device=output_device,\n",
    "                                        preconditioner_size=preconditioner_size)"
   ]
  },
  {
   "cell_type": "markdown",
   "metadata": {},
   "source": [
    "model, likelihood = train(train_x, train_y,\n",
    "                          n_devices=n_devices, output_device=output_device,\n",
    "                          checkpoint_size=10000,\n",
    "                          preconditioner_size=100,\n",
    "                          n_training_iter=100)"
   ]
  },
  {
   "cell_type": "code",
   "execution_count": 22,
   "metadata": {},
   "outputs": [],
   "source": [
    "# Get into evaluation (predictive posterior) mode\n",
    "model.eval()\n",
    "likelihood.eval()\n",
    "\n",
    "with torch.no_grad(), gpytorch.settings.fast_pred_var(), gpytorch.beta_features.checkpoint_kernel(1000):\n",
    "    # Make predictions on a small number of test points to get the test time caches computed\n",
    "    latent_pred = model(test_x[:2, :])\n",
    "    del latent_pred  # We don't care about these predictions, we really just want the caches.\n"
   ]
  },
  {
   "cell_type": "code",
   "execution_count": 23,
   "metadata": {},
   "outputs": [
    {
     "name": "stdout",
     "output_type": "stream",
     "text": [
      "CPU times: user 0 ns, sys: 3.05 ms, total: 3.05 ms\n",
      "Wall time: 2.77 ms\n",
      "Test RMSE: 0.7905970811843872\n"
     ]
    }
   ],
   "source": [
    "with torch.no_grad(), gpytorch.settings.fast_pred_var(), gpytorch.beta_features.checkpoint_kernel(1000):\n",
    "    %time latent_pred = model(test_x)\n",
    "\n",
    "test_rmse = torch.sqrt(torch.mean(torch.pow(latent_pred.mean - test_y, 2)))\n",
    "print(f\"Test RMSE: {test_rmse.item()}\")"
   ]
  },
  {
   "cell_type": "code",
   "execution_count": 353,
   "metadata": {},
   "outputs": [],
   "source": [
    "#[torch.linspace(0, 0, 200) for i in range(2)].append([torch.linspace(-1,5, 1,5, 200) for i in range(1)])"
   ]
  },
  {
   "cell_type": "code",
   "execution_count": 293,
   "metadata": {},
   "outputs": [],
   "source": [
    "df_test = pd.DataFrame(np.array(df, dtype=np.float32))"
   ]
  },
  {
   "cell_type": "code",
   "execution_count": 294,
   "metadata": {},
   "outputs": [],
   "source": [
    "f0 = torch.linspace(-1.95233848, -1.95233848, 200)\n",
    "f1 = torch.linspace(1.5526242, 1.5526242, 200)\n",
    "f2 = torch.linspace(-2.5, 2.5, 200)\n",
    "#f2 = torch.linspace(-1.5000936, -1.5000936, 1)\n",
    "f3 = torch.linspace(-0.6362436, -0.6362436, 200)\n",
    "f4 = torch.linspace(-0.1726566, -0.1726566, 200)"
   ]
  },
  {
   "cell_type": "code",
   "execution_count": 295,
   "metadata": {},
   "outputs": [
    {
     "data": {
      "text/plain": [
       "array([0. , 0.5, 1. ], dtype=float32)"
      ]
     },
     "execution_count": 295,
     "metadata": {},
     "output_type": "execute_result"
    }
   ],
   "source": [
    "df_test[0].unique()"
   ]
  },
  {
   "cell_type": "code",
   "execution_count": 296,
   "metadata": {},
   "outputs": [
    {
     "data": {
      "text/plain": [
       "array([0.        , 0.16666667, 0.33333334, 0.5       , 0.6666667 ,\n",
       "       0.8333333 , 1.        ], dtype=float32)"
      ]
     },
     "execution_count": 296,
     "metadata": {},
     "output_type": "execute_result"
    }
   ],
   "source": [
    "np.sort(df_test[2].unique())"
   ]
  },
  {
   "cell_type": "code",
   "execution_count": 297,
   "metadata": {},
   "outputs": [
    {
     "data": {
      "text/plain": [
       "array([0., 1.], dtype=float32)"
      ]
     },
     "execution_count": 297,
     "metadata": {},
     "output_type": "execute_result"
    }
   ],
   "source": [
    "df_test[4].unique()"
   ]
  },
  {
   "cell_type": "code",
   "execution_count": 298,
   "metadata": {},
   "outputs": [
    {
     "data": {
      "text/plain": [
       "array([0., 1.], dtype=float32)"
      ]
     },
     "execution_count": 298,
     "metadata": {},
     "output_type": "execute_result"
    }
   ],
   "source": [
    "df_test[3].unique()"
   ]
  },
  {
   "cell_type": "code",
   "execution_count": 299,
   "metadata": {},
   "outputs": [
    {
     "data": {
      "text/plain": [
       "1.0"
      ]
     },
     "execution_count": 299,
     "metadata": {},
     "output_type": "execute_result"
    }
   ],
   "source": [
    "df_test[1].unique().max()"
   ]
  },
  {
   "cell_type": "code",
   "execution_count": 300,
   "metadata": {},
   "outputs": [
    {
     "data": {
      "text/html": [
       "<div>\n",
       "<style scoped>\n",
       "    .dataframe tbody tr th:only-of-type {\n",
       "        vertical-align: middle;\n",
       "    }\n",
       "\n",
       "    .dataframe tbody tr th {\n",
       "        vertical-align: top;\n",
       "    }\n",
       "\n",
       "    .dataframe thead th {\n",
       "        text-align: right;\n",
       "    }\n",
       "</style>\n",
       "<table border=\"1\" class=\"dataframe\">\n",
       "  <thead>\n",
       "    <tr style=\"text-align: right;\">\n",
       "      <th></th>\n",
       "      <th>0</th>\n",
       "      <th>1</th>\n",
       "      <th>2</th>\n",
       "      <th>3</th>\n",
       "      <th>4</th>\n",
       "      <th>5</th>\n",
       "    </tr>\n",
       "  </thead>\n",
       "  <tbody>\n",
       "  </tbody>\n",
       "</table>\n",
       "</div>"
      ],
      "text/plain": [
       "Empty DataFrame\n",
       "Columns: [0, 1, 2, 3, 4, 5]\n",
       "Index: []"
      ]
     },
     "execution_count": 300,
     "metadata": {},
     "output_type": "execute_result"
    }
   ],
   "source": [
    "df_test = pd.DataFrame(np.array(df, dtype=np.float32))\n",
    "df_test = df_test[df_test[0]==-1.95233848]\n",
    "df_test = df_test[df_test[1]==1.5526242]\n",
    "df_test = df_test[df_test[3]==-0.6362436]\n",
    "df_test = df_test[df_test[4]==-0.1726566]\n",
    "#df_test = df_test[df_test[2]==-1.5000936]\n",
    "df_test"
   ]
  },
  {
   "cell_type": "code",
   "execution_count": 233,
   "metadata": {},
   "outputs": [],
   "source": [
    "train_x_fil = torch.tensor(np.array(df_test), dtype=torch.float32).cuda()"
   ]
  },
  {
   "cell_type": "code",
   "execution_count": 234,
   "metadata": {},
   "outputs": [],
   "source": [
    "sample_x = torch.stack([f0,f1,f2,f3,f4,] , axis=-1).cuda()"
   ]
  },
  {
   "cell_type": "code",
   "execution_count": 301,
   "metadata": {},
   "outputs": [],
   "source": [
    "sample_x = test_x"
   ]
  },
  {
   "cell_type": "code",
   "execution_count": 14,
   "metadata": {
    "collapsed": true,
    "jupyter": {
     "outputs_hidden": true
    }
   },
   "outputs": [
    {
     "ename": "NameError",
     "evalue": "name 'train_x_fil' is not defined",
     "output_type": "error",
     "traceback": [
      "\u001b[0;31m---------------------------------------------------------------------------\u001b[0m",
      "\u001b[0;31mNameError\u001b[0m                                 Traceback (most recent call last)",
      "\u001b[0;32m<ipython-input-14-14d4b8103900>\u001b[0m in \u001b[0;36m<module>\u001b[0;34m\u001b[0m\n\u001b[1;32m      8\u001b[0m     \u001b[0;31m# Plot training data as black stars\u001b[0m\u001b[0;34m\u001b[0m\u001b[0;34m\u001b[0m\u001b[0;34m\u001b[0m\u001b[0m\n\u001b[1;32m      9\u001b[0m     \u001b[0max\u001b[0m\u001b[0;34m.\u001b[0m\u001b[0mplot\u001b[0m\u001b[0;34m(\u001b[0m\u001b[0mtrain_x\u001b[0m\u001b[0;34m[\u001b[0m\u001b[0;34m:\u001b[0m\u001b[0;34m,\u001b[0m\u001b[0mfeature_idx\u001b[0m\u001b[0;34m]\u001b[0m\u001b[0;34m.\u001b[0m\u001b[0mcpu\u001b[0m\u001b[0;34m(\u001b[0m\u001b[0;34m)\u001b[0m\u001b[0;34m.\u001b[0m\u001b[0mnumpy\u001b[0m\u001b[0;34m(\u001b[0m\u001b[0;34m)\u001b[0m\u001b[0;34m,\u001b[0m \u001b[0mtrain_y\u001b[0m\u001b[0;34m.\u001b[0m\u001b[0mcpu\u001b[0m\u001b[0;34m(\u001b[0m\u001b[0;34m)\u001b[0m\u001b[0;34m.\u001b[0m\u001b[0mnumpy\u001b[0m\u001b[0;34m(\u001b[0m\u001b[0;34m)\u001b[0m\u001b[0;34m,\u001b[0m \u001b[0;34m'k*'\u001b[0m\u001b[0;34m)\u001b[0m\u001b[0;34m\u001b[0m\u001b[0;34m\u001b[0m\u001b[0m\n\u001b[0;32m---> 10\u001b[0;31m     \u001b[0max\u001b[0m\u001b[0;34m.\u001b[0m\u001b[0mplot\u001b[0m\u001b[0;34m(\u001b[0m\u001b[0mtrain_x_fil\u001b[0m\u001b[0;34m[\u001b[0m\u001b[0;34m:\u001b[0m\u001b[0;34m,\u001b[0m\u001b[0mfeature_idx\u001b[0m\u001b[0;34m]\u001b[0m\u001b[0;34m.\u001b[0m\u001b[0mcpu\u001b[0m\u001b[0;34m(\u001b[0m\u001b[0;34m)\u001b[0m\u001b[0;34m.\u001b[0m\u001b[0mnumpy\u001b[0m\u001b[0;34m(\u001b[0m\u001b[0;34m)\u001b[0m\u001b[0;34m,\u001b[0m \u001b[0mtrain_x_fil\u001b[0m\u001b[0;34m[\u001b[0m\u001b[0;34m:\u001b[0m\u001b[0;34m,\u001b[0m\u001b[0;34m-\u001b[0m\u001b[0;36m1\u001b[0m\u001b[0;34m]\u001b[0m\u001b[0;34m.\u001b[0m\u001b[0mcpu\u001b[0m\u001b[0;34m(\u001b[0m\u001b[0;34m)\u001b[0m\u001b[0;34m.\u001b[0m\u001b[0mnumpy\u001b[0m\u001b[0;34m(\u001b[0m\u001b[0;34m)\u001b[0m\u001b[0;34m,\u001b[0m \u001b[0;34m'r*'\u001b[0m\u001b[0;34m)\u001b[0m\u001b[0;34m\u001b[0m\u001b[0;34m\u001b[0m\u001b[0m\n\u001b[0m\u001b[1;32m     11\u001b[0m     \u001b[0;31m#ax.plot(sample_x[:,feature_idx].cpu().numpy(), y_samples.cpu().numpy(), lw=1)\u001b[0m\u001b[0;34m\u001b[0m\u001b[0;34m\u001b[0m\u001b[0;34m\u001b[0m\u001b[0m\n\u001b[1;32m     12\u001b[0m     \u001b[0;31m#ax.plot(train_x[:,1].cpu().numpy(), train_y.cpu().numpy(), 'r*')\u001b[0m\u001b[0;34m\u001b[0m\u001b[0;34m\u001b[0m\u001b[0;34m\u001b[0m\u001b[0m\n",
      "\u001b[0;31mNameError\u001b[0m: name 'train_x_fil' is not defined"
     ]
    },
    {
     "data": {
      "image/png": "[encoded data removed]",
      "text/plain": [
       "<Figure size 1080x1080 with 1 Axes>"
      ]
     },
     "metadata": {
      "needs_background": "light"
     },
     "output_type": "display_data"
    }
   ],
   "source": [
    "feature_idx=2\n",
    "with torch.no_grad():\n",
    "    # Initialize plot\n",
    "    f, ax = plt.subplots(1, 1, figsize=(15, 15))\n",
    "\n",
    "    # Get upper and lower confidence bounds\n",
    "    lower, upper = observed_pred.confidence_region()\n",
    "    # Plot training data as black stars\n",
    "    ax.plot(train_x[:,feature_idx].cpu().numpy(), train_y.cpu().numpy(), 'k*')\n",
    "    ax.plot(train_x_fil[:,feature_idx].cpu().numpy(), train_x_fil[:,-1].cpu().numpy(), 'r*')\n",
    "    #ax.plot(sample_x[:,feature_idx].cpu().numpy(), y_samples.cpu().numpy(), lw=1)\n",
    "    #ax.plot(train_x[:,1].cpu().numpy(), train_y.cpu().numpy(), 'r*')\n",
    "    #ax.plot(train_x[:,2].cpu().numpy(), train_y.cpu().numpy(), 'g*')\n",
    "    #ax.plot(test_x.cpu().numpy(), test_y.cpu().numpy(), 'r*')\n",
    "    # Plot predictive means as blue line\n",
    "    #ax.plot(torch.linspace(-2, 1, 200).numpy(), observed_pred.mean.cpu().numpy(), 'k*')\n",
    "    #ax.plot(sample_x[:,feature_idx].cpu().numpy(), observed_pred.mean.cpu().numpy(), 'b')\n",
    "    # Shade between the lower and upper confidence bounds\n",
    "    #ax.fill_between(test_x.cpu().numpy()[:,0], lower.cpu().numpy(), upper.cpu().numpy(), alpha=0.5)\n",
    "    #ax.fill_between(sample_x[:,feature_idx].cpu().numpy(), lower.cpu().numpy(), upper.cpu().numpy(), alpha=0.5)\n",
    "    #ax.set_ylim([-3, 3])\n",
    "    ax.legend(['Observed Data', 'Mean', 'Confidence'])"
   ]
  },
  {
   "cell_type": "markdown",
   "metadata": {},
   "source": [
    "## NV"
   ]
  },
  {
   "cell_type": "code",
   "execution_count": 12,
   "metadata": {},
   "outputs": [],
   "source": [
    "#y_train_unscaled = scaler.inverse_transform(df[n_train:,:])[:,-1]\n",
    "y_train_unscaled = (scaler.inverse_transform(df_scaled[:n_train,:])[:,-1])*y_max\n",
    "y_test_unscaled = (scaler.inverse_transform(df_scaled[n_train:,:])[:,-1])*y_max"
   ]
  },
  {
   "cell_type": "markdown",
   "metadata": {},
   "source": [
    "y_train_unscaled = df.STEAK[:n_train].to_numpy()"
   ]
  },
  {
   "cell_type": "markdown",
   "metadata": {},
   "source": [
    "y_test_unscaled = df.STEAK[n_train:].to_numpy()"
   ]
  },
  {
   "cell_type": "code",
   "execution_count": 13,
   "metadata": {},
   "outputs": [],
   "source": [
    "n_features = df_scaled.shape[1]\n",
    "nv_means = observed_pred.mean.cpu().numpy()\n",
    "#nv_means = observed_pred_train.mean.cpu().numpy()\n",
    "nv_means_unscaled = (scaler.inverse_transform(np.stack([nv_means for i in range(n_features)], axis=1))[:,-1])*y_max"
   ]
  },
  {
   "cell_type": "code",
   "execution_count": 14,
   "metadata": {},
   "outputs": [],
   "source": [
    "nv_sigma = np.sqrt(torch.diag(observed_pred.covariance_matrix).cpu().detach().numpy())\n",
    "#nv_sigma = np.sqrt(torch.diag(observed_pred_train.covariance_matrix).cpu().detach().numpy())\n",
    "nv_sigma_unscaled = (scaler.inverse_transform(np.stack([nv_sigma for i in range(n_features)], axis=1))[:,-1])*y_max"
   ]
  },
  {
   "cell_type": "code",
   "execution_count": 15,
   "metadata": {},
   "outputs": [],
   "source": [
    "from scipy.stats import norm"
   ]
  },
  {
   "cell_type": "code",
   "execution_count": 16,
   "metadata": {},
   "outputs": [],
   "source": [
    "def nv_cost(q, y, cu, co):\n",
    "    if q>y:\n",
    "        cost = (q-y)*co\n",
    "    else:\n",
    "        cost = (y-q)*cu\n",
    "    return cost"
   ]
  },
  {
   "cell_type": "code",
   "execution_count": 18,
   "metadata": {},
   "outputs": [
    {
     "data": {
      "text/plain": [
       "36.0"
      ]
     },
     "execution_count": 18,
     "metadata": {},
     "output_type": "execute_result"
    }
   ],
   "source": [
    "cu = 0.7\n",
    "co = 1-cu\n",
    "nv_quantile = np.quantile(y_train_unscaled, q=cu/(cu+co))\n",
    "nv_quantile"
   ]
  },
  {
   "cell_type": "code",
   "execution_count": 19,
   "metadata": {},
   "outputs": [],
   "source": [
    "#nv_solution = pred_train+norm.ppf(cu)*nv_sigma_unscaled\n",
    "nv_solution = nv_means_unscaled+norm.ppf(cu/(cu+co))*nv_sigma_unscaled"
   ]
  },
  {
   "cell_type": "code",
   "execution_count": 20,
   "metadata": {},
   "outputs": [
    {
     "data": {
      "text/plain": [
       "3.935526315789474"
      ]
     },
     "execution_count": 20,
     "metadata": {},
     "output_type": "execute_result"
    }
   ],
   "source": [
    "cost_saa = np.mean([nv_cost(nv_quantile, y, cu, co) for y in y_test_unscaled])\n",
    "#cost_saa = np.sum([nv_cost(nv_quantile, y, cu, co) for y in y_train_unscaled])\n",
    "cost_saa"
   ]
  },
  {
   "cell_type": "code",
   "execution_count": 21,
   "metadata": {},
   "outputs": [
    {
     "data": {
      "text/plain": [
       "3.514834920983566"
      ]
     },
     "execution_count": 21,
     "metadata": {},
     "output_type": "execute_result"
    }
   ],
   "source": [
    "#cost_gp =  np.sum([nv_cost(q, y, cu, co) for q, y in zip(nv_solution, y_train_unscaled)])\n",
    "cost_gp =  np.mean([nv_cost(q, y, cu, co) for q, y in zip(nv_solution, y_test_unscaled)])\n",
    "cost_gp"
   ]
  },
  {
   "cell_type": "code",
   "execution_count": 22,
   "metadata": {},
   "outputs": [
    {
     "data": {
      "text/plain": [
       "0.8931041591265496"
      ]
     },
     "execution_count": 22,
     "metadata": {},
     "output_type": "execute_result"
    }
   ],
   "source": [
    "cost_gp/cost_saa"
   ]
  },
  {
   "cell_type": "code",
   "execution_count": 23,
   "metadata": {},
   "outputs": [],
   "source": [
    "res = []\n",
    "for c in range(5,100, 5):\n",
    "    cu = c/100\n",
    "    co = 1-cu\n",
    "    nv_quantile = np.quantile(y_train_unscaled, q=cu/(cu+co))\n",
    "    nv_solution = nv_means_unscaled+norm.ppf(cu/(cu+co))*nv_sigma_unscaled\n",
    "    cost_saa = np.mean([nv_cost(nv_quantile, y, cu, co) for y in y_test_unscaled])\n",
    "    cost_gp =  np.mean([nv_cost(q, y, cu, co) for q, y in zip(nv_solution, y_test_unscaled)])\n",
    "    ser_tmp=pd.Series({\"cu\":cu, \"co\":co, \"cost\":cost_saa, \"type\":\"saa\"})\n",
    "    res.append(ser_tmp)\n",
    "    ser_tmp=pd.Series({\"cu\":cu, \"co\":co, \"cost\":cost_gp, \"type\":\"gp\"})\n",
    "    res.append(ser_tmp)\n",
    "df_res = pd.DataFrame(res)\n",
    "df_res.to_csv(f'res_data/gp_res_{target}.csv', index=False)"
   ]
  },
  {
   "cell_type": "code",
   "execution_count": 24,
   "metadata": {},
   "outputs": [
    {
     "data": {
      "image/png": "[encoded data removed]",
      "text/plain": [
       "<Figure size 1080x1080 with 1 Axes>"
      ]
     },
     "metadata": {},
     "output_type": "display_data"
    }
   ],
   "source": [
    "import seaborn as sns\n",
    "#df_plot = pd.read_csv('all_res.csv')\n",
    "df_plot = df_res\n",
    "df_plot = df_plot[~(df_plot.type.isin([\"rf_rf\", \"rf_grf\", \"rf_oracle\"]))]\n",
    "sns.set(rc={'figure.figsize':(15,15)})\n",
    "sns.set_style('whitegrid')\n",
    "sns_plot = sns.lineplot(data=df_plot, x=\"cu\", y=\"cost\", hue=\"type\");\n",
    "fig = sns_plot.get_figure()\n",
    "fig.savefig(\"output_{target}.png\")"
   ]
  }
 ],
 "metadata": {
  "kernelspec": {
   "display_name": "Python 3",
   "language": "python",
   "name": "python3"
  },
  "language_info": {
   "codemirror_mode": {
    "name": "ipython",
    "version": 3
   },
   "file_extension": ".py",
   "mimetype": "text/x-python",
   "name": "python",
   "nbconvert_exporter": "python",
   "pygments_lexer": "ipython3",
   "version": "3.8.5"
  }
 },
 "nbformat": 4,
 "nbformat_minor": 4
}
